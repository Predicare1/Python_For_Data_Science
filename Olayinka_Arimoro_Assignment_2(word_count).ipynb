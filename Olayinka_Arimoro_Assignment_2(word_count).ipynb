{
  "cells": [
    {
      "metadata": {},
      "cell_type": "markdown",
      "source": "#### Word Count in ascending order"
    },
    {
      "metadata": {
        "trusted": true
      },
      "cell_type": "code",
      "source": "import re  # Importing the regular expression function\n\n# Defining the function\n\ndef word_distribution(string, asc):\n    punct = r'\\b\\S+\\b'      # regrex code responsible for removing punctuation marks\n    my_string = re.findall(punct, string.lower()) # make the string in lower case and finding all punctuation marks as defind by punct\n    \n    my_dict = {}\n    for item in my_string:\n        if item in my_dict:\n            my_dict[item] += 1    # continuously adds desired items found in my_string to the dictionary\n        else:\n            my_dict[item] = 1\n    \n    # Sorting the dictionary in ascending order\n    asc = {}\n    for i in sorted(my_dict.values()):\n        for key, value in my_dict.items():\n            if i == value:\n                asc[key] = i\n    print(asc)\n\n# Calling the function\n\nstring = \"Glory, and honour and majesty belongs to God. To him be the glory, forever and ever. Amen!!!\" # defining the string\n\nword_distribution(string, \"asc\") # The result",
      "execution_count": 5,
      "outputs": [
        {
          "output_type": "stream",
          "text": "{'honour': 1, 'majesty': 1, 'belongs': 1, 'god': 1, 'him': 1, 'be': 1, 'the': 1, 'forever': 1, 'ever': 1, 'amen': 1, 'glory': 2, 'to': 2, 'and': 3}\n",
          "name": "stdout"
        }
      ]
    },
    {
      "metadata": {},
      "cell_type": "markdown",
      "source": "#### Word Count in descending order"
    },
    {
      "metadata": {
        "trusted": true
      },
      "cell_type": "code",
      "source": "import re  # Importing the regular expression function\n\n# Defining the function\n\ndef word_distribution(string1, desc):\n    punct = r'\\b\\S+\\b'      # regrex code responsible for removing punctuation marks\n    my_string1 = re.findall(punct, string1.lower()) # make the string in lower case and finding all punctuation marks as defind by punct\n    \n    my_dict1 = {}\n    for item in my_string1:\n        if item in my_dict1:\n            my_dict1[item] += 1    # continuously adds desired items found in my_string to the dictionary\n        else:\n            my_dict1[item] = 1\n    \n    # Sorting the dictionary in descending order\n    desc = {}\n    for i in sorted(my_dict1.values(), reverse=True):\n        for key, value in my_dict1.items():\n            if i == value:\n                desc[key] = i\n    print(desc)\n\n# Calling the function\n\nstring1 = \"Hello. How are you? Please say hello (John's sister) if you dont, me love me, me!\" # defining the string\n\nword_distribution(string1, \"desc\") # The result",
      "execution_count": 6,
      "outputs": [
        {
          "output_type": "stream",
          "text": "{'me': 3, 'hello': 2, 'you': 2, 'how': 1, 'are': 1, 'please': 1, 'say': 1, \"john's\": 1, 'sister': 1, 'if': 1, 'dont': 1, 'love': 1}\n",
          "name": "stdout"
        }
      ]
    },
    {
      "metadata": {
        "trusted": true
      },
      "cell_type": "code",
      "source": "",
      "execution_count": null,
      "outputs": []
    }
  ],
  "metadata": {
    "kernelspec": {
      "name": "python36",
      "display_name": "Python 3.6",
      "language": "python"
    },
    "language_info": {
      "mimetype": "text/x-python",
      "nbconvert_exporter": "python",
      "name": "python",
      "pygments_lexer": "ipython3",
      "version": "3.6.6",
      "file_extension": ".py",
      "codemirror_mode": {
        "version": 3,
        "name": "ipython"
      }
    }
  },
  "nbformat": 4,
  "nbformat_minor": 2
}