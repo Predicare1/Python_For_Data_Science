{
 "cells": [
  {
   "cell_type": "code",
   "execution_count": 6,
   "metadata": {},
   "outputs": [
    {
     "data": {
      "text/plain": [
       "{\"(john's\": 1,\n",
       " 'are': 1,\n",
       " 'dont,!me': 1,\n",
       " 'hello': 1,\n",
       " 'hello.': 1,\n",
       " 'how': 1,\n",
       " 'if': 1,\n",
       " 'love': 1,\n",
       " 'me!': 1,\n",
       " 'me,': 1,\n",
       " 'please': 1,\n",
       " 'say': 1,\n",
       " 'sister)': 1,\n",
       " 'you': 1,\n",
       " 'you?': 1}"
      ]
     },
     "execution_count": 6,
     "metadata": {},
     "output_type": "execute_result"
    }
   ],
   "source": [
    "text_string1 = \"Hello. How are you? Please say hello (John's sister) if you dont,!me love me, me!\"\n",
    "text_string = \"That's when I saw Jane (John's sister)!\"\n",
    "def word_distribution(text_string):\n",
    "    words_list = text_string.split()\n",
    "    words_list = [words_list[i].lower() for i in range(len(words_list))]\n",
    "    for i in range(len(words_list)):\n",
    "        if not words_list[i].isalpha():\n",
    "            word = words_list[i]\n",
    "    for j in word:\n",
    "        if j != \"\\'\" and j != \"\" and not j.isalpha():\n",
    "            idx = word.find(j)\n",
    "            words_list[i] = word.replace(word[idx],\" \")\n",
    "            #break\n",
    "    words_dict = {}\n",
    "    for word in words_list:\n",
    "        if word in words_dict:\n",
    "            words_dict[word] += 1\n",
    "        else:\n",
    "            words_dict[word] = 1\n",
    "    result = words_dict\n",
    "    return result\n",
    "word_distribution(text_string1)"
   ]
  },
  {
   "cell_type": "code",
   "execution_count": 26,
   "metadata": {},
   "outputs": [
    {
     "data": {
      "text/plain": [
       "4"
      ]
     },
     "execution_count": 26,
     "metadata": {},
     "output_type": "execute_result"
    }
   ],
   "source": [
    "string = \"Glory, and honour and belongs belongs to to to God Amen!\"\n",
    "my_string = string.lower().split()\n",
    "words_list = [my_string[i].lower() for i in range(len(my_string))]\n",
    "for i in range(len(words_list)):\n",
    "        if not my_string[i].isalpha():\n",
    "            word = my_string[i]\n",
    "for j in word:\n",
    "        if j != \"\\'\" and j != \"\" and not j.isalpha():\n",
    "            idx = word.find(j)\n",
    "            my_string[i] = word.replace(word[idx],\"\")\n",
    "idx"
   ]
  },
  {
   "cell_type": "code",
   "execution_count": 29,
   "metadata": {},
   "outputs": [
    {
     "name": "stdout",
     "output_type": "stream",
     "text": [
      "{'glory,': 1, 'honour': 1, 'god': 1, 'amen': 1, 'and': 2, 'belongs': 2, 'to': 3}\n"
     ]
    }
   ],
   "source": [
    "def word_distribution(string, sort_order):\n",
    "    my_string = string.lower().split()\n",
    "    words_list = [my_string[i].lower() for i in range(len(my_string))]\n",
    "    for i in range(len(words_list)):\n",
    "        if not my_string[i].isalpha():\n",
    "            word = my_string[i]\n",
    "    for j in word:\n",
    "        if j != \"\\'\" and j != \"\" and not j.isalpha():\n",
    "            idx = word.find(j)\n",
    "            my_string[i] = word.replace(word[idx],\"\")\n",
    "            \n",
    "#break\n",
    "\n",
    "    my_dict = {}\n",
    "    for item in my_string:\n",
    "        if item in my_dict:\n",
    "            my_dict[item] += 1\n",
    "        else:\n",
    "            my_dict[item] = 1\n",
    "    o_dict = {}\n",
    "    for i in sorted(my_dict.values()):\n",
    "        for key, value in my_dict.items():\n",
    "            if i == value:\n",
    "                o_dict[key] = i\n",
    "    #return o_dict\n",
    "    print(o_dict)\n",
    "\n",
    "word_distribution(\"Glory, and honour and belongs belongs to to to God Amen!\")"
   ]
  },
  {
   "cell_type": "code",
   "execution_count": 49,
   "metadata": {},
   "outputs": [
    {
     "name": "stdout",
     "output_type": "stream",
     "text": [
      "{'glory': 1, 'honour': 1, 'god': 1, 'amen': 1, 'and': 2, 'belongs': 2, 'to': 3}\n"
     ]
    }
   ],
   "source": [
    "import re\n",
    "\n",
    "def word_distribution(string, sort_order):\n",
    "    pattern = r'\\b\\S+\\b'\n",
    "    my_string = re.findall(pattern, string.lower())\n",
    "    \n",
    "    my_dict = {}\n",
    "    for item in my_string:\n",
    "        if item in my_dict:\n",
    "            my_dict[item] += 1\n",
    "        else:\n",
    "            my_dict[item] = 1\n",
    "    \n",
    "    o_dict = {}\n",
    "    for i in sorted(my_dict.values()):\n",
    "        for key, value in my_dict.items():\n",
    "            if i == value:\n",
    "                o_dict[key] = i\n",
    "    print(o_dict)\n",
    "\n",
    "word_distribution(\"Glory, and honour and belongs belongs to to to God Amen!\", \"asc\")"
   ]
  },
  {
   "cell_type": "code",
   "execution_count": 5,
   "metadata": {},
   "outputs": [
    {
     "name": "stdout",
     "output_type": "stream",
     "text": [
      "{'how': 1, 'are': 1, 'please': 1, 'say': 1, \"john's\": 1, 'sister': 1, 'if': 1, 'dont': 1, 'love': 1, 'hello': 2, 'you': 2, 'me': 3}\n"
     ]
    }
   ],
   "source": [
    "string = \"Hello. How are you? Please say hello (John's sister) if you dont, me love me, me!\"\n",
    "\n",
    "import re\n",
    "\n",
    "def word_distribution(string, sort_order):\n",
    "    pattern = r'\\b\\S+\\b'\n",
    "    my_string = re.findall(pattern, string.lower())\n",
    "    \n",
    "    my_dict = {}\n",
    "    for item in my_string:\n",
    "        if item in my_dict:\n",
    "            my_dict[item] += 1\n",
    "        else:\n",
    "            my_dict[item] = 1\n",
    "    \n",
    "    asc = {}\n",
    "    for i in sorted(my_dict.values()):\n",
    "        for key, value in my_dict.items():\n",
    "            if i == value:\n",
    "                asc[key] = i\n",
    "    print(asc)\n",
    "\n",
    "word_distribution(string, \"asc\")"
   ]
  },
  {
   "cell_type": "code",
   "execution_count": 8,
   "metadata": {},
   "outputs": [
    {
     "name": "stdout",
     "output_type": "stream",
     "text": [
      "{'me': 3, 'hello': 2, 'you': 2, 'how': 1, 'are': 1, 'please': 1, 'say': 1, \"john's\": 1, 'sister': 1, 'if': 1, 'dont': 1, 'love': 1}\n"
     ]
    }
   ],
   "source": [
    "import re  # Importing the regular expression function\n",
    "\n",
    "# Defining the function\n",
    "\n",
    "def word_distribution(string1, asc):\n",
    "    punct = r'\\b\\S+\\b'      # regrex code responsible for removing punctuation marks\n",
    "    my_string1 = re.findall(punct, string1.lower()) # make the string in lower case and finding all punctuation marks as defind by punct\n",
    "    \n",
    "    my_dict1 = {}\n",
    "    for item in my_string1:\n",
    "        if item in my_dict1:\n",
    "            my_dict1[item] += 1    # continuously adds desired items found in my_string to the dictionary\n",
    "        else:\n",
    "            my_dict1[item] = 1\n",
    "    \n",
    "    # Sorting the dictionary in ascending order\n",
    "    desc = de\n",
    "    for i in sorted(my_dict1.values(),reverse=True):\n",
    "        for key1, value1 in my_dict1.items():\n",
    "            if i == value1:\n",
    "                desc[key1] = i\n",
    "    print(desc)\n",
    "\n",
    "# Calling the function\n",
    "\n",
    "string1 = \"Hello. How are you? Please say hello (John's sister) if you dont, me love me, me!\" # defining the string\n",
    "word_distribution(string1, \"desc\") # The result"
   ]
  },
  {
   "cell_type": "code",
   "execution_count": null,
   "metadata": {
    "collapsed": true
   },
   "outputs": [],
   "source": []
  }
 ],
 "metadata": {
  "kernelspec": {
   "display_name": "Python 3",
   "language": "python",
   "name": "python3"
  },
  "language_info": {
   "codemirror_mode": {
    "name": "ipython",
    "version": 3
   },
   "file_extension": ".py",
   "mimetype": "text/x-python",
   "name": "python",
   "nbconvert_exporter": "python",
   "pygments_lexer": "ipython3",
   "version": "3.6.1"
  }
 },
 "nbformat": 4,
 "nbformat_minor": 2
}
